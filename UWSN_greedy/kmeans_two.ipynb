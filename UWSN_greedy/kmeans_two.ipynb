{
 "cells": [
  {
   "cell_type": "code",
   "execution_count": 3,
   "id": "8e2577e6",
   "metadata": {},
   "outputs": [
    {
     "name": "stdout",
     "output_type": "stream",
     "text": [
      "Tạo file input_data/nodes_20.json chứa 20 node.\n",
      "Tạo file input_data/nodes_100.json chứa 100 node.\n",
      "Tạo file input_data/nodes_200.json chứa 200 node.\n",
      "Tạo file input_data/nodes_500.json chứa 500 node.\n",
      "Tạo file input_data/nodes_1000.json chứa 1000 node.\n"
     ]
    }
   ],
   "source": [
    "import numpy as np\n",
    "import json\n",
    "import os\n",
    "\n",
    "def generate_nodes(N, space_size=100, energy_node = 100, filename=\"nodes.json\"):\n",
    "    \n",
    "    #Sinh n node cảm biến ngẫu nhiên trong không gian 3D và lưu vào folder input_data\n",
    "    \n",
    "    np.random.seed(0)  # để kết quả lặp lại\n",
    "    node_positions = np.random.rand(N, 3) * space_size\n",
    "\n",
    "    data = []\n",
    "    for i in range(N):\n",
    "        data.append({\n",
    "            \"id\": i,\n",
    "            \"x\": float(node_positions[i][0]),\n",
    "            \"y\": float(node_positions[i][1]),\n",
    "            \"z\": float(node_positions[i][2]),\n",
    "            \"energy_node\": float(energy_node)\n",
    "        })\n",
    "\n",
    "    \n",
    "    os.makedirs(\"input_data\", exist_ok=True)\n",
    "    filepath = f\"input_data/{filename}\"\n",
    "    with open(filepath, \"w\") as f:\n",
    "        json.dump(data, f, indent=4)\n",
    "\n",
    "    print(f\"Tạo file {filepath} chứa {N} node.\")\n",
    "\n",
    "# Sinh dữ liệu\n",
    "for N in [20, 100, 200, 500, 1000]:\n",
    "    generate_nodes(N, space_size=100, filename=f\"nodes_{N}.json\")\n"
   ]
  },
  {
   "cell_type": "code",
   "execution_count": null,
   "id": "c684f92e",
   "metadata": {},
   "outputs": [
    {
     "name": "stderr",
     "output_type": "stream",
     "text": [
      "c:\\Users\\ADMIN\\AppData\\Local\\Programs\\Python\\Python310\\lib\\site-packages\\joblib\\externals\\loky\\backend\\context.py:136: UserWarning: Could not find the number of physical cores for the following reason:\n",
      "[WinError 2] The system cannot find the file specified\n",
      "Returning the number of logical cores instead. You can silence this warning by setting LOKY_MAX_CPU_COUNT to the number of cores you want to use.\n",
      "  warnings.warn(\n",
      "  File \"c:\\Users\\ADMIN\\AppData\\Local\\Programs\\Python\\Python310\\lib\\site-packages\\joblib\\externals\\loky\\backend\\context.py\", line 257, in _count_physical_cores\n",
      "    cpu_info = subprocess.run(\n",
      "  File \"c:\\Users\\ADMIN\\AppData\\Local\\Programs\\Python\\Python310\\lib\\subprocess.py\", line 503, in run\n",
      "    with Popen(*popenargs, **kwargs) as process:\n",
      "  File \"c:\\Users\\ADMIN\\AppData\\Local\\Programs\\Python\\Python310\\lib\\subprocess.py\", line 971, in __init__\n",
      "    self._execute_child(args, executable, preexec_fn, close_fds,\n",
      "  File \"c:\\Users\\ADMIN\\AppData\\Local\\Programs\\Python\\Python310\\lib\\subprocess.py\", line 1456, in _execute_child\n",
      "    hp, ht, pid, tid = _winapi.CreateProcess(executable, args,\n"
     ]
    },
    {
     "name": "stdout",
     "output_type": "stream",
     "text": [
      "Đã xuất file output_data_kmeans\\nodes_100.json\n"
     ]
    },
    {
     "name": "stderr",
     "output_type": "stream",
     "text": [
      "C:\\Users\\ADMIN\\AppData\\Local\\Temp\\ipykernel_10920\\2359092186.py:45: MatplotlibDeprecationWarning: The get_cmap function was deprecated in Matplotlib 3.7 and will be removed in 3.11. Use ``matplotlib.colormaps[name]`` or ``matplotlib.colormaps.get_cmap()`` or ``pyplot.get_cmap()`` instead.\n",
      "  colors = plt.cm.get_cmap('tab10', len(clusters_output))\n"
     ]
    },
    {
     "name": "stdout",
     "output_type": "stream",
     "text": [
      "Đã lưu hình vẽ draw_output_kmeans\\nodes_100.png\n",
      "Đã xuất file output_data_kmeans\\nodes_1000.json\n"
     ]
    },
    {
     "name": "stderr",
     "output_type": "stream",
     "text": [
      "C:\\Users\\ADMIN\\AppData\\Local\\Temp\\ipykernel_10920\\2359092186.py:45: MatplotlibDeprecationWarning: The get_cmap function was deprecated in Matplotlib 3.7 and will be removed in 3.11. Use ``matplotlib.colormaps[name]`` or ``matplotlib.colormaps.get_cmap()`` or ``pyplot.get_cmap()`` instead.\n",
      "  colors = plt.cm.get_cmap('tab10', len(clusters_output))\n",
      "C:\\Users\\ADMIN\\AppData\\Local\\Temp\\ipykernel_10920\\2359092186.py:61: UserWarning: Tight layout not applied. The bottom and top margins cannot be made large enough to accommodate all Axes decorations.\n",
      "  plt.tight_layout()\n"
     ]
    },
    {
     "name": "stdout",
     "output_type": "stream",
     "text": [
      "Đã lưu hình vẽ draw_output_kmeans\\nodes_1000.png\n",
      "Đã xuất file output_data_kmeans\\nodes_20.json\n"
     ]
    },
    {
     "name": "stderr",
     "output_type": "stream",
     "text": [
      "C:\\Users\\ADMIN\\AppData\\Local\\Temp\\ipykernel_10920\\2359092186.py:45: MatplotlibDeprecationWarning: The get_cmap function was deprecated in Matplotlib 3.7 and will be removed in 3.11. Use ``matplotlib.colormaps[name]`` or ``matplotlib.colormaps.get_cmap()`` or ``pyplot.get_cmap()`` instead.\n",
      "  colors = plt.cm.get_cmap('tab10', len(clusters_output))\n"
     ]
    },
    {
     "name": "stdout",
     "output_type": "stream",
     "text": [
      "Đã lưu hình vẽ draw_output_kmeans\\nodes_20.png\n",
      "Đã xuất file output_data_kmeans\\nodes_200.json\n"
     ]
    },
    {
     "name": "stderr",
     "output_type": "stream",
     "text": [
      "C:\\Users\\ADMIN\\AppData\\Local\\Temp\\ipykernel_10920\\2359092186.py:45: MatplotlibDeprecationWarning: The get_cmap function was deprecated in Matplotlib 3.7 and will be removed in 3.11. Use ``matplotlib.colormaps[name]`` or ``matplotlib.colormaps.get_cmap()`` or ``pyplot.get_cmap()`` instead.\n",
      "  colors = plt.cm.get_cmap('tab10', len(clusters_output))\n"
     ]
    },
    {
     "name": "stdout",
     "output_type": "stream",
     "text": [
      "Đã lưu hình vẽ draw_output_kmeans\\nodes_200.png\n",
      "Đã xuất file output_data_kmeans\\nodes_500.json\n"
     ]
    },
    {
     "name": "stderr",
     "output_type": "stream",
     "text": [
      "C:\\Users\\ADMIN\\AppData\\Local\\Temp\\ipykernel_10920\\2359092186.py:45: MatplotlibDeprecationWarning: The get_cmap function was deprecated in Matplotlib 3.7 and will be removed in 3.11. Use ``matplotlib.colormaps[name]`` or ``matplotlib.colormaps.get_cmap()`` or ``pyplot.get_cmap()`` instead.\n",
      "  colors = plt.cm.get_cmap('tab10', len(clusters_output))\n",
      "C:\\Users\\ADMIN\\AppData\\Local\\Temp\\ipykernel_10920\\2359092186.py:61: UserWarning: Tight layout not applied. The bottom and top margins cannot be made large enough to accommodate all Axes decorations.\n",
      "  plt.tight_layout()\n"
     ]
    },
    {
     "name": "stdout",
     "output_type": "stream",
     "text": [
      "Đã lưu hình vẽ draw_output_kmeans\\nodes_500.png\n"
     ]
    }
   ],
   "source": [
    "import os\n",
    "import json\n",
    "import numpy as np\n",
    "import matplotlib.pyplot as plt\n",
    "from mpl_toolkits.mplot3d import Axes3D\n",
    "\n",
    "input_folder = \"input_data\"\n",
    "output_folder = \"output_data_kmeans\"\n",
    "os.makedirs(output_folder, exist_ok=True)\n",
    "draw_folder = \"draw_output_kmeans\"\n",
    "os.makedirs(draw_folder, exist_ok=True)\n",
    "\n",
    "for filename in os.listdir(input_folder):\n",
    "    if filename.startswith(\"nodes_\") and filename.endswith(\".json\"):\n",
    "        # Lấy số lượng node từ tên file\n",
    "        number = filename.split(\"_\")[1].split(\".\")[0]\n",
    "        # Đọc dữ liệu từ file input\n",
    "        with open(os.path.join(input_folder, filename), \"r\") as f:\n",
    "            data = json.load(f)\n",
    "        node_positions = np.array([[d[\"x\"], d[\"y\"], d[\"z\"]] for d in data])\n",
    "        node_ids = [d[\"id\"] for d in data]\n",
    "        energies = {d[\"id\"]: d[\"energy_node\"] for d in data}\n",
    "        # Phân cụm\n",
    "        clusters_raw = cluster_split(node_positions, node_ids, R=5)\n",
    "        # Tạo output\n",
    "        clusters_output = {}\n",
    "        for i, c in enumerate(clusters_raw):\n",
    "            ch = choose_cluster_head(c, energies, alpha=0.8)\n",
    "            #Tính năng lượng trung bình của cụm\n",
    "            average_energy = round(np.mean([energies[nid] for nid in c[\"node_ids\"]]), 2)\n",
    "            clusters_output[i] = {\n",
    "                \"nodes\": c[\"node_ids\"],\n",
    "                \"center\": tuple(np.round(c[\"center\"], 2)),\n",
    "                \"cluster_head\": int(ch),\n",
    "                \"average_energy\": average_energy\n",
    "            }\n",
    "        # Xuất ra file\n",
    "        out_path = os.path.join(output_folder, f\"nodes_{number}.json\")\n",
    "        with open(out_path, \"w\") as f:\n",
    "            json.dump(clusters_output, f, indent=4)\n",
    "        print(f\"Đã xuất file {out_path}\")\n",
    "        # Vẽ và lưu hình\n",
    "        fig = plt.figure(figsize=(10, 8))\n",
    "        ax = fig.add_subplot(111, projection='3d')\n",
    "        colors = plt.cm.get_cmap('tab10', len(clusters_output))\n",
    "        for cid, info in clusters_output.items():\n",
    "            nodes = np.array([node_positions[nid] for nid in info['nodes']])\n",
    "            ax.scatter(nodes[:, 0], nodes[:, 1], nodes[:, 2],\n",
    "                        label=f'Cụm {cid} (E={info[\"average_energy\"]}J)',\n",
    "                        color=colors(cid))\n",
    "            ch_pos = node_positions[info['cluster_head']]\n",
    "            ax.scatter(ch_pos[0], ch_pos[1], ch_pos[2],\n",
    "                        color=colors(cid),\n",
    "                        marker='*', s=80, edgecolor='k')\n",
    "        ax.set_xlabel('X')\n",
    "        ax.set_ylabel('Y')\n",
    "        ax.set_zlabel('Z')\n",
    "        ax.legend()\n",
    "        plt.title(f'Phân cụm các node cảm biến ({number} node)')\n",
    "        ax.view_init(elev=30, azim=30)\n",
    "        plt.tight_layout()\n",
    "        draw_path = os.path.join(draw_folder, f\"nodes_{number}.png\")\n",
    "        plt.savefig(draw_path)\n",
    "        plt.close(fig)\n",
    "        print(f\"Đã lưu hình vẽ {draw_path}\")"
   ]
  }
 ],
 "metadata": {
  "kernelspec": {
   "display_name": "Python 3",
   "language": "python",
   "name": "python3"
  },
  "language_info": {
   "codemirror_mode": {
    "name": "ipython",
    "version": 3
   },
   "file_extension": ".py",
   "mimetype": "text/x-python",
   "name": "python",
   "nbconvert_exporter": "python",
   "pygments_lexer": "ipython3",
   "version": "3.10.11"
  }
 },
 "nbformat": 4,
 "nbformat_minor": 5
}
