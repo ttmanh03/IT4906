{
 "cells": [
  {
   "cell_type": "code",
   "execution_count": null,
   "id": "227f5b6e",
   "metadata": {},
   "outputs": [
    {
     "name": "stdout",
     "output_type": "stream",
     "text": [
      "Cluster heads: [12, 7, 14, 18, 15, 10, 4]\n",
      "\n",
      "Ma trận thời gian di chuyển:\n",
      "[[ 0.    4.55  6.86  7.84 10.18  7.24  8.97]\n",
      " [ 4.55  0.    3.78  6.85  5.97  5.79  6.96]\n",
      " [ 6.86  3.78  0.    4.31  4.65  6.34  9.05]\n",
      " [ 7.84  6.85  4.31  0.    7.27  5.97 10.24]\n",
      " [10.18  5.97  4.65  7.27  0.    6.54  7.66]\n",
      " [ 7.24  5.79  6.34  5.97  6.54  0.    4.59]\n",
      " [ 8.97  6.96  9.05 10.24  7.66  4.59  0.  ]]\n",
      "\n",
      "Đường đi AUV tối ưu (theo id của nút tâm cụm):\n",
      "4 → 10 → 18 → 14 → 15 → 7 → 12\n",
      "Tổng thời gian di chuyển nhỏ nhất: 30.05 s\n"
     ]
    }
   ],
   "source": [
    "import numpy as np\n",
    "import itertools\n",
    "import json\n",
    "\n",
    "with open(\"output_data_kmeans/nodes_100.json\", \"r\", encoding=\"utf-8\") as f:\n",
    "    nodes_100_list = json.load(f)\n",
    "\n",
    "# Giả sử đây là output từ Algorithm 1\n",
    "clusters_output = {\n",
    "    0: {\"nodes\": [0, 3, 5, 7, 10], \"center\": (12.3, 45.6, 30.2), \"cluster_head\": 5},\n",
    "    1: {\"nodes\": [1, 2, 8, 9], \"center\": (80.1, 20.4, 15.7), \"cluster_head\": 2},\n",
    "    2: {\"nodes\": [4, 6, 11, 12, 13], \"center\": (40.5, 60.0, 25.1), \"cluster_head\": 6}\n",
    "}\n",
    "\n",
    "# Bước 1: Trích danh sách cluster head và tọa độ nút đầu cụm\n",
    "cluster_heads = [] # danh sách các nút đầu cụm\n",
    "positions = {}\n",
    "for cid, info in nodes_100_list.items():\n",
    "    ch = info[\"cluster_head\"]\n",
    "    cluster_heads.append(ch)\n",
    "    positions[ch] = np.array(info[\"center\"])   # tọa độ tâm cụm\n",
    "\n",
    "print(\"Cluster heads:\", cluster_heads)\n",
    "\n",
    "# Bước 2: Tính ma trận thời gian di chuyển giữa các nút tâm cụm\n",
    "v_AUV = 10.0  # giả sử vận tốc AUV (m/s)\n",
    "n = len(cluster_heads)\n",
    "travel_time = np.zeros((n, n)) # ma trận thời gian di chuyển giữa các nút tâm cụm\n",
    "\n",
    "for i in range(n):\n",
    "    for j in range(n):\n",
    "        if i != j:\n",
    "            dist = np.linalg.norm(positions[cluster_heads[i]] - positions[cluster_heads[j]])\n",
    "            travel_time[i][j] = dist / v_AUV   # tính thời gian đi từ nút i tới nút j\n",
    "        else:\n",
    "            travel_time[i][j] = 0\n",
    "\n",
    "print(\"\\nMa trận thời gian di chuyển:\")\n",
    "\n",
    "print(np.round(travel_time, 2))\n",
    "\n",
    "# Bước 3: Thuật toán chọn đường đi (Algorithm 2)\n",
    "def path_selection(cluster_heads, travel_time):\n",
    "    n = len(cluster_heads)\n",
    "    best_time = float('inf')\n",
    "    best_path = None\n",
    "\n",
    "    for path in itertools.permutations(range(n)):  # duyệt tất cả đường đi\n",
    "        total_time = 0\n",
    "        for i in range(1, n):\n",
    "            total_time += travel_time[path[i-1]][path[i]]\n",
    "        if total_time < best_time:\n",
    "            best_time = total_time\n",
    "            best_path = path\n",
    "    return best_path, best_time\n",
    "\n",
    "best_path, best_time = path_selection(cluster_heads, travel_time)\n",
    "\n",
    "# Bước 4: Hiển thị kết quả\n",
    "print(\"\\nĐường đi AUV tối ưu (theo id của nút tâm cụm):\")\n",
    "print(\" → \".join(str(cluster_heads[i]) for i in best_path))\n",
    "print(f\"Tổng thời gian di chuyển nhỏ nhất: {best_time:.2f} s\")\n"
   ]
  }
 ],
 "metadata": {
  "kernelspec": {
   "display_name": "Python 3",
   "language": "python",
   "name": "python3"
  },
  "language_info": {
   "codemirror_mode": {
    "name": "ipython",
    "version": 3
   },
   "file_extension": ".py",
   "mimetype": "text/x-python",
   "name": "python",
   "nbconvert_exporter": "python",
   "pygments_lexer": "ipython3",
   "version": "3.10.11"
  }
 },
 "nbformat": 4,
 "nbformat_minor": 5
}
