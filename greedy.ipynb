{
 "cells": [
  {
   "cell_type": "code",
   "execution_count": 1,
   "id": "227f5b6e",
   "metadata": {},
   "outputs": [
    {
     "name": "stdout",
     "output_type": "stream",
     "text": [
      "Cluster heads: [5, 2, 6]\n",
      "\n",
      "Ma trận thời gian di chuyển:\n",
      "[[0.   7.38 3.21]\n",
      " [7.38 0.   5.68]\n",
      " [3.21 5.68 0.  ]]\n",
      "\n",
      "Đường đi AUV tối ưu (theo thứ tự cụm):\n",
      "5 → 6 → 2\n",
      "Tổng thời gian di chuyển nhỏ nhất: 8.89 s\n"
     ]
    }
   ],
   "source": [
    "import numpy as np\n",
    "import itertools\n",
    "\n",
    "# === Giả sử đây là output từ Algorithm 1 ===\n",
    "clusters_output = {\n",
    "    0: {\"nodes\": [0, 3, 5, 7, 10], \"center\": (12.3, 45.6, 30.2), \"cluster_head\": 5},\n",
    "    1: {\"nodes\": [1, 2, 8, 9], \"center\": (80.1, 20.4, 15.7), \"cluster_head\": 2},\n",
    "    2: {\"nodes\": [4, 6, 11, 12, 13], \"center\": (40.5, 60.0, 25.1), \"cluster_head\": 6}\n",
    "}\n",
    "\n",
    "# === Bước 1: Trích danh sách cluster head và tọa độ ===\n",
    "cluster_heads = []\n",
    "positions = {}\n",
    "for cid, info in clusters_output.items():\n",
    "    ch = info[\"cluster_head\"]\n",
    "    cluster_heads.append(ch)\n",
    "    positions[ch] = np.array(info[\"center\"])   # có thể dùng tọa độ tâm cụm hoặc node CH thật\n",
    "\n",
    "print(\"Cluster heads:\", cluster_heads)\n",
    "\n",
    "# === Bước 2: Tính ma trận thời gian di chuyển giữa các CH ===\n",
    "v_AUV = 10.0  # vận tốc AUV (m/s) - bạn có thể điều chỉnh theo mô hình\n",
    "n = len(cluster_heads)\n",
    "travel_time = np.zeros((n, n))\n",
    "\n",
    "for i in range(n):\n",
    "    for j in range(n):\n",
    "        if i != j:\n",
    "            dist = np.linalg.norm(positions[cluster_heads[i]] - positions[cluster_heads[j]])\n",
    "            travel_time[i][j] = dist / v_AUV   # thời gian = khoảng cách / vận tốc\n",
    "\n",
    "print(\"\\nMa trận thời gian di chuyển:\")\n",
    "print(np.round(travel_time, 2))\n",
    "\n",
    "# === Bước 3: Thuật toán chọn đường đi (Algorithm 2) ===\n",
    "def auv_path_selection(cluster_heads, travel_time):\n",
    "    n = len(cluster_heads)\n",
    "    best_time = float('inf')\n",
    "    best_path = None\n",
    "\n",
    "    for perm in itertools.permutations(range(n)):  # duyệt tất cả đường đi\n",
    "        total_time = 0\n",
    "        for i in range(1, n):\n",
    "            total_time += travel_time[perm[i-1]][perm[i]]\n",
    "        if total_time < best_time:\n",
    "            best_time = total_time\n",
    "            best_path = perm\n",
    "    return best_path, best_time\n",
    "\n",
    "best_path, best_time = auv_path_selection(cluster_heads, travel_time)\n",
    "\n",
    "# === Bước 4: Hiển thị kết quả ===\n",
    "print(\"\\nĐường đi AUV tối ưu (theo thứ tự cụm):\")\n",
    "print(\" → \".join(str(cluster_heads[i]) for i in best_path))\n",
    "print(f\"Tổng thời gian di chuyển nhỏ nhất: {best_time:.2f} s\")\n"
   ]
  }
 ],
 "metadata": {
  "kernelspec": {
   "display_name": "Python 3",
   "language": "python",
   "name": "python3"
  },
  "language_info": {
   "codemirror_mode": {
    "name": "ipython",
    "version": 3
   },
   "file_extension": ".py",
   "mimetype": "text/x-python",
   "name": "python",
   "nbconvert_exporter": "python",
   "pygments_lexer": "ipython3",
   "version": "3.10.11"
  }
 },
 "nbformat": 4,
 "nbformat_minor": 5
}
